{
 "cells": [
  {
   "cell_type": "code",
   "execution_count": null,
   "id": "pleasant-howard",
   "metadata": {},
   "outputs": [],
   "source": [
    "#!pip install climetlab\n",
    "#!pip install climetlab_mltc_surface_observation_postprocessing"
   ]
  },
  {
   "cell_type": "code",
   "execution_count": 1,
   "id": "arabic-sally",
   "metadata": {},
   "outputs": [],
   "source": [
    "import climetlab as cml"
   ]
  },
  {
   "cell_type": "code",
   "execution_count": 2,
   "id": "affiliated-binding",
   "metadata": {},
   "outputs": [
    {
     "name": "stdout",
     "output_type": "stream",
     "text": [
      "By downloading data from this dataset, you agree to the terms and conditions defined at https://github.com/mchantry/climetlab-mltc-sop/blob/main/LICENSE. If you do not agree with such terms, do not download the data. \n"
     ]
    }
   ],
   "source": [
    "cmlds = cml.load_dataset(\n",
    "    \"mltc-surface-observation-postprocessing\",\n",
    "    field=\"soil_temperature\",\n",
    ")"
   ]
  },
  {
   "cell_type": "code",
   "execution_count": 3,
   "id": "boring-bryan",
   "metadata": {},
   "outputs": [
    {
     "data": {
      "text/html": [
       "<div>\n",
       "<style scoped>\n",
       "    .dataframe tbody tr th:only-of-type {\n",
       "        vertical-align: middle;\n",
       "    }\n",
       "\n",
       "    .dataframe tbody tr th {\n",
       "        vertical-align: top;\n",
       "    }\n",
       "\n",
       "    .dataframe thead th {\n",
       "        text-align: right;\n",
       "    }\n",
       "</style>\n",
       "<table border=\"1\" class=\"dataframe\">\n",
       "  <thead>\n",
       "    <tr style=\"text-align: right;\">\n",
       "      <th></th>\n",
       "      <th>soil_temperature</th>\n",
       "    </tr>\n",
       "  </thead>\n",
       "  <tbody>\n",
       "    <tr>\n",
       "      <th>0</th>\n",
       "      <td>6.270020</td>\n",
       "    </tr>\n",
       "    <tr>\n",
       "      <th>1</th>\n",
       "      <td>5.779999</td>\n",
       "    </tr>\n",
       "    <tr>\n",
       "      <th>2</th>\n",
       "      <td>6.119995</td>\n",
       "    </tr>\n",
       "    <tr>\n",
       "      <th>3</th>\n",
       "      <td>6.010010</td>\n",
       "    </tr>\n",
       "    <tr>\n",
       "      <th>4</th>\n",
       "      <td>6.140015</td>\n",
       "    </tr>\n",
       "    <tr>\n",
       "      <th>...</th>\n",
       "      <td>...</td>\n",
       "    </tr>\n",
       "    <tr>\n",
       "      <th>5265483</th>\n",
       "      <td>33.309998</td>\n",
       "    </tr>\n",
       "    <tr>\n",
       "      <th>5265484</th>\n",
       "      <td>34.450012</td>\n",
       "    </tr>\n",
       "    <tr>\n",
       "      <th>5265485</th>\n",
       "      <td>33.670013</td>\n",
       "    </tr>\n",
       "    <tr>\n",
       "      <th>5265486</th>\n",
       "      <td>26.270020</td>\n",
       "    </tr>\n",
       "    <tr>\n",
       "      <th>5265487</th>\n",
       "      <td>24.600006</td>\n",
       "    </tr>\n",
       "  </tbody>\n",
       "</table>\n",
       "<p>5265488 rows × 1 columns</p>\n",
       "</div>"
      ],
      "text/plain": [
       "         soil_temperature\n",
       "0                6.270020\n",
       "1                5.779999\n",
       "2                6.119995\n",
       "3                6.010010\n",
       "4                6.140015\n",
       "...                   ...\n",
       "5265483         33.309998\n",
       "5265484         34.450012\n",
       "5265485         33.670013\n",
       "5265486         26.270020\n",
       "5265487         24.600006\n",
       "\n",
       "[5265488 rows x 1 columns]"
      ]
     },
     "execution_count": 3,
     "metadata": {},
     "output_type": "execute_result"
    }
   ],
   "source": [
    "ds = cmlds.to_pandas()\n",
    "ds"
   ]
  },
  {
   "cell_type": "code",
   "execution_count": null,
   "id": "a54cca57",
   "metadata": {},
   "outputs": [],
   "source": []
  }
 ],
 "metadata": {
  "kernelspec": {
   "display_name": "Python 3 (ipykernel)",
   "language": "python",
   "name": "python3"
  },
  "language_info": {
   "codemirror_mode": {
    "name": "ipython",
    "version": 3
   },
   "file_extension": ".py",
   "mimetype": "text/x-python",
   "name": "python",
   "nbconvert_exporter": "python",
   "pygments_lexer": "ipython3",
   "version": "3.9.11"
  }
 },
 "nbformat": 4,
 "nbformat_minor": 5
}
